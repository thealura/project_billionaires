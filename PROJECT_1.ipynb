{
 "cells": [
  {
   "cell_type": "code",
   "execution_count": null,
   "metadata": {},
   "outputs": [],
   "source": [
    "pip install pandas"
   ]
  },
  {
   "cell_type": "code",
   "execution_count": null,
   "metadata": {},
   "outputs": [],
   "source": [
    "pip install matplotlib"
   ]
  },
  {
   "cell_type": "code",
   "execution_count": null,
   "metadata": {},
   "outputs": [],
   "source": [
    "import pandas as pd\n",
    "import numpy as np\n",
    "import matplotlib.pyplot as plt"
   ]
  },
  {
   "attachments": {},
   "cell_type": "markdown",
   "metadata": {},
   "source": [
    "READ IN DATA!"
   ]
  },
  {
   "cell_type": "code",
   "execution_count": null,
   "metadata": {},
   "outputs": [],
   "source": [
    "full_file = pd.read_csv(\"billionaire_list_20yrs.csv\")\n",
    "full_file"
   ]
  },
  {
   "cell_type": "code",
   "execution_count": null,
   "metadata": {},
   "outputs": [],
   "source": [
    "print(full_file.info())"
   ]
  },
  {
   "cell_type": "code",
   "execution_count": null,
   "metadata": {},
   "outputs": [],
   "source": [
    "print(full_file.describe())"
   ]
  },
  {
   "attachments": {},
   "cell_type": "markdown",
   "metadata": {},
   "source": [
    "MANIPULATE AND CLEAN DATA"
   ]
  },
  {
   "attachments": {},
   "cell_type": "markdown",
   "metadata": {},
   "source": [
    "Delete unnecessary columns\n"
   ]
  },
  {
   "cell_type": "code",
   "execution_count": null,
   "metadata": {},
   "outputs": [],
   "source": [
    "df = full_file.drop(['headquarters', 'state', 'name', 'last_name'], axis=1)\n",
    "print(df.info())"
   ]
  },
  {
   "attachments": {},
   "cell_type": "markdown",
   "metadata": {},
   "source": [
    "Fill in Nulls"
   ]
  },
  {
   "cell_type": "code",
   "execution_count": null,
   "metadata": {},
   "outputs": [],
   "source": [
    "#fill in missing genders\n",
    "df['gender'] = df['gender'].fillna('Unknown')\n",
    "df['company'] = df['company'].fillna('Unknown')\n",
    "df['wealth_source_details'] = df['wealth_source_details'].fillna('Unknown')\n",
    "df['industry'] = df['industry'].fillna('Unknown')\n",
    "#replace missing permanent_country with country\n",
    "df['permanent_country'] = df['permanent_country'].fillna(df['countries'])\n",
    "\n",
    "print(df.info())"
   ]
  },
  {
   "attachments": {},
   "cell_type": "markdown",
   "metadata": {},
   "source": [
    "ANALYZE DATA \n"
   ]
  },
  {
   "attachments": {},
   "cell_type": "markdown",
   "metadata": {},
   "source": [
    "Total number of Billionaires over the last 20 years"
   ]
  },
  {
   "cell_type": "code",
   "execution_count": 160,
   "metadata": {},
   "outputs": [
    {
     "name": "stdout",
     "output_type": "stream",
     "text": [
      "The total number of billionaires in the last 20 years is 5014 !!!\n"
     ]
    }
   ],
   "source": [
    "#filter names by single entry\n",
    "totalppl = df.name_cleaned.nunique()\n",
    "print(\"The total number of billionaires in the last 20 years is\", totalppl, \"!!!\")"
   ]
  },
  {
   "cell_type": "code",
   "execution_count": null,
   "metadata": {},
   "outputs": [],
   "source": [
    "#plot number of billionaires over the years"
   ]
  },
  {
   "attachments": {},
   "cell_type": "markdown",
   "metadata": {},
   "source": [
    "Top 10 Billionaires and their wealth over time"
   ]
  },
  {
   "cell_type": "code",
   "execution_count": 158,
   "metadata": {},
   "outputs": [
    {
     "name": "stderr",
     "output_type": "stream",
     "text": [
      "C:\\Users\\theal\\AppData\\Local\\Temp\\ipykernel_13068\\3187982566.py:2: FutureWarning: The default value of numeric_only in DataFrameGroupBy.sum is deprecated. In a future version, numeric_only will default to False. Either specify numeric_only or select only columns which should be valid for the function.\n",
      "  topten = df.groupby(['name_cleaned']).sum()\n"
     ]
    },
    {
     "data": {
      "text/html": [
       "<div>\n",
       "<style scoped>\n",
       "    .dataframe tbody tr th:only-of-type {\n",
       "        vertical-align: middle;\n",
       "    }\n",
       "\n",
       "    .dataframe tbody tr th {\n",
       "        vertical-align: top;\n",
       "    }\n",
       "\n",
       "    .dataframe thead th {\n",
       "        text-align: right;\n",
       "    }\n",
       "</style>\n",
       "<table border=\"1\" class=\"dataframe\">\n",
       "  <thead>\n",
       "    <tr style=\"text-align: right;\">\n",
       "      <th></th>\n",
       "      <th>Unnamed: 0</th>\n",
       "      <th>age</th>\n",
       "      <th>time</th>\n",
       "      <th>annual_income</th>\n",
       "      <th>daily_income</th>\n",
       "      <th>birth_year</th>\n",
       "    </tr>\n",
       "    <tr>\n",
       "      <th>name_cleaned</th>\n",
       "      <th></th>\n",
       "      <th></th>\n",
       "      <th></th>\n",
       "      <th></th>\n",
       "      <th></th>\n",
       "      <th></th>\n",
       "    </tr>\n",
       "  </thead>\n",
       "  <tbody>\n",
       "    <tr>\n",
       "      <th>bill_gates</th>\n",
       "      <td>17065377</td>\n",
       "      <td>29106</td>\n",
       "      <td>887292</td>\n",
       "      <td>956388761979</td>\n",
       "      <td>2620242975</td>\n",
       "      <td>862596</td>\n",
       "    </tr>\n",
       "    <tr>\n",
       "      <th>warren_buffett</th>\n",
       "      <td>149555889</td>\n",
       "      <td>40131</td>\n",
       "      <td>887292</td>\n",
       "      <td>810449135958</td>\n",
       "      <td>2220408330</td>\n",
       "      <td>851571</td>\n",
       "    </tr>\n",
       "    <tr>\n",
       "      <th>carlos_slim_helu</th>\n",
       "      <td>20426238</td>\n",
       "      <td>36162</td>\n",
       "      <td>887292</td>\n",
       "      <td>694437722958</td>\n",
       "      <td>1902568899</td>\n",
       "      <td>855540</td>\n",
       "    </tr>\n",
       "    <tr>\n",
       "      <th>jeff_bezos</th>\n",
       "      <td>64598121</td>\n",
       "      <td>25578</td>\n",
       "      <td>887292</td>\n",
       "      <td>594087668958</td>\n",
       "      <td>1627637235</td>\n",
       "      <td>866124</td>\n",
       "    </tr>\n",
       "    <tr>\n",
       "      <th>bernard_arnault</th>\n",
       "      <td>15596406</td>\n",
       "      <td>32193</td>\n",
       "      <td>887292</td>\n",
       "      <td>582475634937</td>\n",
       "      <td>1595823432</td>\n",
       "      <td>859509</td>\n",
       "    </tr>\n",
       "    <tr>\n",
       "      <th>larry_ellison</th>\n",
       "      <td>81172665</td>\n",
       "      <td>33957</td>\n",
       "      <td>887292</td>\n",
       "      <td>559514780958</td>\n",
       "      <td>1532916987</td>\n",
       "      <td>857745</td>\n",
       "    </tr>\n",
       "    <tr>\n",
       "      <th>amancio_ortega</th>\n",
       "      <td>7064820</td>\n",
       "      <td>37926</td>\n",
       "      <td>887292</td>\n",
       "      <td>542367692937</td>\n",
       "      <td>1485938643</td>\n",
       "      <td>853776</td>\n",
       "    </tr>\n",
       "    <tr>\n",
       "      <th>jim_walton</th>\n",
       "      <td>67558113</td>\n",
       "      <td>32193</td>\n",
       "      <td>887292</td>\n",
       "      <td>416084003979</td>\n",
       "      <td>1139955999</td>\n",
       "      <td>859509</td>\n",
       "    </tr>\n",
       "    <tr>\n",
       "      <th>alice_walton</th>\n",
       "      <td>5878530</td>\n",
       "      <td>31752</td>\n",
       "      <td>887292</td>\n",
       "      <td>412401212979</td>\n",
       "      <td>1129866150</td>\n",
       "      <td>859950</td>\n",
       "    </tr>\n",
       "    <tr>\n",
       "      <th>rob_walton</th>\n",
       "      <td>119484099</td>\n",
       "      <td>33957</td>\n",
       "      <td>887292</td>\n",
       "      <td>410085710979</td>\n",
       "      <td>1123522302</td>\n",
       "      <td>857745</td>\n",
       "    </tr>\n",
       "  </tbody>\n",
       "</table>\n",
       "</div>"
      ],
      "text/plain": [
       "                  Unnamed: 0    age    time  annual_income  daily_income  \\\n",
       "name_cleaned                                                               \n",
       "bill_gates          17065377  29106  887292   956388761979    2620242975   \n",
       "warren_buffett     149555889  40131  887292   810449135958    2220408330   \n",
       "carlos_slim_helu    20426238  36162  887292   694437722958    1902568899   \n",
       "jeff_bezos          64598121  25578  887292   594087668958    1627637235   \n",
       "bernard_arnault     15596406  32193  887292   582475634937    1595823432   \n",
       "larry_ellison       81172665  33957  887292   559514780958    1532916987   \n",
       "amancio_ortega       7064820  37926  887292   542367692937    1485938643   \n",
       "jim_walton          67558113  32193  887292   416084003979    1139955999   \n",
       "alice_walton         5878530  31752  887292   412401212979    1129866150   \n",
       "rob_walton         119484099  33957  887292   410085710979    1123522302   \n",
       "\n",
       "                  birth_year  \n",
       "name_cleaned                  \n",
       "bill_gates            862596  \n",
       "warren_buffett        851571  \n",
       "carlos_slim_helu      855540  \n",
       "jeff_bezos            866124  \n",
       "bernard_arnault       859509  \n",
       "larry_ellison         857745  \n",
       "amancio_ortega        853776  \n",
       "jim_walton            859509  \n",
       "alice_walton          859950  \n",
       "rob_walton            857745  "
      ]
     },
     "execution_count": 158,
     "metadata": {},
     "output_type": "execute_result"
    }
   ],
   "source": [
    "#sum the wealth of each, get top ten names\n",
    "topten = df.groupby(['name_cleaned']).sum()\n",
    "topten.nlargest(10,'annual_income')"
   ]
  },
  {
   "cell_type": "code",
   "execution_count": null,
   "metadata": {},
   "outputs": [],
   "source": [
    "#plot their wealth over the last 20 years, by passing names into list "
   ]
  },
  {
   "attachments": {},
   "cell_type": "markdown",
   "metadata": {},
   "source": [
    "Sum of All Wealth for Each Year"
   ]
  },
  {
   "cell_type": "code",
   "execution_count": 159,
   "metadata": {},
   "outputs": [
    {
     "name": "stderr",
     "output_type": "stream",
     "text": [
      "C:\\Users\\theal\\AppData\\Local\\Temp\\ipykernel_13068\\4127121419.py:2: FutureWarning: The default value of numeric_only in DataFrameGroupBy.sum is deprecated. In a future version, numeric_only will default to False. Either specify numeric_only or select only columns which should be valid for the function.\n",
      "  yearly_total = df.groupby(['time']).sum()\n"
     ]
    },
    {
     "data": {
      "text/plain": [
       "Text(0.5, 1.0, 'Total Wealth of Billionaires Over Time')"
      ]
     },
     "execution_count": 159,
     "metadata": {},
     "output_type": "execute_result"
    },
    {
     "data": {
      "image/png": "[encoded data removed]",
      "text/plain": [
       "<Figure size 640x480 with 1 Axes>"
      ]
     },
     "metadata": {},
     "output_type": "display_data"
    }
   ],
   "source": [
    "#filter data by years\n",
    "yearly_total = df.groupby(['time']).sum()\n",
    "yearly_total.plot(kind='line')\n",
    "plt.title(\"Total Wealth of Billionaires Over Time\")\n",
    "#change y axis ticker increment\n",
    "#change legend and what's graphed"
   ]
  },
  {
   "attachments": {},
   "cell_type": "markdown",
   "metadata": {},
   "source": [
    "Gender Data"
   ]
  },
  {
   "cell_type": "code",
   "execution_count": null,
   "metadata": {},
   "outputs": [],
   "source": [
    "#get unique names-- single instance of a person\n",
    "##ppl = df.name_cleaned.unique\n",
    "##print(ppl)\n",
    "\n",
    "#print the numbers\n",
    "print('Number of Male Billionaires: ', (df['gender'].value_counts()['M']))\n",
    "print('Number of Female Billionaires: ', (df['gender'].value_counts()['F']))\n",
    "print('Unknown Gender: ', (df['gender'].value_counts()['Unknown']))\n",
    "\n",
    "#top industries per gender? "
   ]
  },
  {
   "cell_type": "code",
   "execution_count": null,
   "metadata": {},
   "outputs": [],
   "source": [
    "#wealth comparisons by gender over time\n"
   ]
  },
  {
   "attachments": {},
   "cell_type": "markdown",
   "metadata": {},
   "source": [
    "Age Data"
   ]
  },
  {
   "cell_type": "code",
   "execution_count": null,
   "metadata": {},
   "outputs": [],
   "source": [
    "#print youngest, oldest, and avg age\n",
    "\n",
    "#plot diagram of age data with wealth"
   ]
  },
  {
   "attachments": {},
   "cell_type": "markdown",
   "metadata": {},
   "source": [
    "Industry Data"
   ]
  },
  {
   "cell_type": "code",
   "execution_count": 161,
   "metadata": {},
   "outputs": [
    {
     "data": {
      "text/plain": [
       "Text(0.5, 1.0, 'Top 10 Industries in the last 20 years')"
      ]
     },
     "execution_count": 161,
     "metadata": {},
     "output_type": "execute_result"
    },
    {
     "data": {
      "image/png": "[encoded data removed]",
      "text/plain": [
       "<Figure size 640x480 with 1 Axes>"
      ]
     },
     "metadata": {},
     "output_type": "display_data"
    }
   ],
   "source": [
    "#grouped_by_industry = df.groupby('main_industry')\n",
    "ind = df.main_industry.value_counts()\n",
    "ind.head(10).plot(kind='pie')\n",
    "plt.ylabel('')\n",
    "plt.title(\"Top 10 Industries in the last 20 years\")"
   ]
  },
  {
   "attachments": {},
   "cell_type": "markdown",
   "metadata": {},
   "source": [
    "Billionaires by Country"
   ]
  },
  {
   "cell_type": "code",
   "execution_count": null,
   "metadata": {},
   "outputs": [],
   "source": [
    "#create heatmap showing wealth distribution"
   ]
  },
  {
   "attachments": {},
   "cell_type": "markdown",
   "metadata": {},
   "source": [
    "VISUALIZE DATA\n",
    "Make 2 basic plots with matplotlib or seaborn"
   ]
  },
  {
   "attachments": {},
   "cell_type": "markdown",
   "metadata": {},
   "source": [
    "INTERPRET DATA"
   ]
  }
 ],
 "metadata": {
  "kernelspec": {
   "display_name": "python",
   "language": "python",
   "name": "python3"
  },
  "language_info": {
   "codemirror_mode": {
    "name": "ipython",
    "version": 3
   },
   "file_extension": ".py",
   "mimetype": "text/x-python",
   "name": "python",
   "nbconvert_exporter": "python",
   "pygments_lexer": "ipython3",
   "version": "3.9.15"
  },
  "orig_nbformat": 4,
  "vscode": {
   "interpreter": {
    "hash": "ddaaf6b5fe107b2109b013489c3d2e566bac579c71f2fc1b5fc3affa707db53b"
   }
  }
 },
 "nbformat": 4,
 "nbformat_minor": 2
}
