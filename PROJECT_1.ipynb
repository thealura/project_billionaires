{
 "cells": [
  {
   "cell_type": "code",
   "execution_count": 177,
   "metadata": {},
   "outputs": [
    {
     "name": "stdout",
     "output_type": "stream",
     "text": [
      "Requirement already satisfied: pandas in c:\\users\\theal\\anaconda3\\envs\\python\\lib\\site-packages (1.5.3)\n",
      "Requirement already satisfied: pytz>=2020.1 in c:\\users\\theal\\anaconda3\\envs\\python\\lib\\site-packages (from pandas) (2022.7.1)\n",
      "Requirement already satisfied: numpy>=1.20.3 in c:\\users\\theal\\anaconda3\\envs\\python\\lib\\site-packages (from pandas) (1.24.2)\n",
      "Requirement already satisfied: python-dateutil>=2.8.1 in c:\\users\\theal\\anaconda3\\envs\\python\\lib\\site-packages (from pandas) (2.8.2)\n",
      "Requirement already satisfied: six>=1.5 in c:\\users\\theal\\anaconda3\\envs\\python\\lib\\site-packages (from python-dateutil>=2.8.1->pandas) (1.16.0)\n",
      "Note: you may need to restart the kernel to use updated packages.\n"
     ]
    }
   ],
   "source": [
    "pip install pandas"
   ]
  },
  {
   "cell_type": "code",
   "execution_count": 178,
   "metadata": {},
   "outputs": [
    {
     "name": "stdout",
     "output_type": "stream",
     "text": [
      "Requirement already satisfied: matplotlib in c:\\users\\theal\\anaconda3\\envs\\python\\lib\\site-packages (3.7.1)\n",
      "Requirement already satisfied: fonttools>=4.22.0 in c:\\users\\theal\\anaconda3\\envs\\python\\lib\\site-packages (from matplotlib) (4.39.0)\n",
      "Requirement already satisfied: contourpy>=1.0.1 in c:\\users\\theal\\anaconda3\\envs\\python\\lib\\site-packages (from matplotlib) (1.0.7)\n",
      "Requirement already satisfied: pillow>=6.2.0 in c:\\users\\theal\\anaconda3\\envs\\python\\lib\\site-packages (from matplotlib) (9.4.0)\n",
      "Requirement already satisfied: kiwisolver>=1.0.1 in c:\\users\\theal\\anaconda3\\envs\\python\\lib\\site-packages (from matplotlib) (1.4.4)\n",
      "Requirement already satisfied: cycler>=0.10 in c:\\users\\theal\\anaconda3\\envs\\python\\lib\\site-packages (from matplotlib) (0.11.0)\n",
      "Requirement already satisfied: pyparsing>=2.3.1 in c:\\users\\theal\\anaconda3\\envs\\python\\lib\\site-packages (from matplotlib) (3.0.9)\n",
      "Requirement already satisfied: numpy>=1.20 in c:\\users\\theal\\anaconda3\\envs\\python\\lib\\site-packages (from matplotlib) (1.24.2)\n",
      "Requirement already satisfied: importlib-resources>=3.2.0 in c:\\users\\theal\\anaconda3\\envs\\python\\lib\\site-packages (from matplotlib) (5.12.0)\n",
      "Requirement already satisfied: python-dateutil>=2.7 in c:\\users\\theal\\anaconda3\\envs\\python\\lib\\site-packages (from matplotlib) (2.8.2)\n",
      "Requirement already satisfied: packaging>=20.0 in c:\\users\\theal\\anaconda3\\envs\\python\\lib\\site-packages (from matplotlib) (23.0)\n",
      "Requirement already satisfied: zipp>=3.1.0 in c:\\users\\theal\\anaconda3\\envs\\python\\lib\\site-packages (from importlib-resources>=3.2.0->matplotlib) (3.14.0)\n",
      "Requirement already satisfied: six>=1.5 in c:\\users\\theal\\anaconda3\\envs\\python\\lib\\site-packages (from python-dateutil>=2.7->matplotlib) (1.16.0)\n",
      "Note: you may need to restart the kernel to use updated packages.\n"
     ]
    }
   ],
   "source": [
    "pip install matplotlib"
   ]
  },
  {
   "cell_type": "code",
   "execution_count": 179,
   "metadata": {},
   "outputs": [
    {
     "name": "stdout",
     "output_type": "stream",
     "text": [
      "Requirement already satisfied: seaborn in c:\\users\\theal\\anaconda3\\envs\\python\\lib\\site-packages (0.12.2)\n",
      "Requirement already satisfied: pandas>=0.25 in c:\\users\\theal\\anaconda3\\envs\\python\\lib\\site-packages (from seaborn) (1.5.3)\n",
      "Requirement already satisfied: numpy!=1.24.0,>=1.17 in c:\\users\\theal\\anaconda3\\envs\\python\\lib\\site-packages (from seaborn) (1.24.2)\n",
      "Requirement already satisfied: matplotlib!=3.6.1,>=3.1 in c:\\users\\theal\\anaconda3\\envs\\python\\lib\\site-packages (from seaborn) (3.7.1)\n",
      "Requirement already satisfied: importlib-resources>=3.2.0 in c:\\users\\theal\\anaconda3\\envs\\python\\lib\\site-packages (from matplotlib!=3.6.1,>=3.1->seaborn) (5.12.0)\n",
      "Requirement already satisfied: pyparsing>=2.3.1 in c:\\users\\theal\\anaconda3\\envs\\python\\lib\\site-packages (from matplotlib!=3.6.1,>=3.1->seaborn) (3.0.9)\n",
      "Requirement already satisfied: kiwisolver>=1.0.1 in c:\\users\\theal\\anaconda3\\envs\\python\\lib\\site-packages (from matplotlib!=3.6.1,>=3.1->seaborn) (1.4.4)\n",
      "Requirement already satisfied: packaging>=20.0 in c:\\users\\theal\\anaconda3\\envs\\python\\lib\\site-packages (from matplotlib!=3.6.1,>=3.1->seaborn) (23.0)\n",
      "Requirement already satisfied: python-dateutil>=2.7 in c:\\users\\theal\\anaconda3\\envs\\python\\lib\\site-packages (from matplotlib!=3.6.1,>=3.1->seaborn) (2.8.2)\n",
      "Requirement already satisfied: pillow>=6.2.0 in c:\\users\\theal\\anaconda3\\envs\\python\\lib\\site-packages (from matplotlib!=3.6.1,>=3.1->seaborn) (9.4.0)\n",
      "Requirement already satisfied: fonttools>=4.22.0 in c:\\users\\theal\\anaconda3\\envs\\python\\lib\\site-packages (from matplotlib!=3.6.1,>=3.1->seaborn) (4.39.0)\n",
      "Requirement already satisfied: cycler>=0.10 in c:\\users\\theal\\anaconda3\\envs\\python\\lib\\site-packages (from matplotlib!=3.6.1,>=3.1->seaborn) (0.11.0)\n",
      "Requirement already satisfied: contourpy>=1.0.1 in c:\\users\\theal\\anaconda3\\envs\\python\\lib\\site-packages (from matplotlib!=3.6.1,>=3.1->seaborn) (1.0.7)\n",
      "Requirement already satisfied: pytz>=2020.1 in c:\\users\\theal\\anaconda3\\envs\\python\\lib\\site-packages (from pandas>=0.25->seaborn) (2022.7.1)\n",
      "Requirement already satisfied: zipp>=3.1.0 in c:\\users\\theal\\anaconda3\\envs\\python\\lib\\site-packages (from importlib-resources>=3.2.0->matplotlib!=3.6.1,>=3.1->seaborn) (3.14.0)\n",
      "Requirement already satisfied: six>=1.5 in c:\\users\\theal\\anaconda3\\envs\\python\\lib\\site-packages (from python-dateutil>=2.7->matplotlib!=3.6.1,>=3.1->seaborn) (1.16.0)\n",
      "Note: you may need to restart the kernel to use updated packages.\n"
     ]
    }
   ],
   "source": [
    "pip install seaborn"
   ]
  },
  {
   "cell_type": "code",
   "execution_count": 180,
   "metadata": {},
   "outputs": [],
   "source": [
    "import pandas as pd\n",
    "import numpy as np\n",
    "import matplotlib.pyplot as plt\n",
    "import seaborn as sns"
   ]
  },
  {
   "attachments": {},
   "cell_type": "markdown",
   "metadata": {},
   "source": [
    "READ IN DATA!"
   ]
  },
  {
   "cell_type": "code",
   "execution_count": 181,
   "metadata": {},
   "outputs": [
    {
     "data": {
      "text/html": [
       "<div>\n",
       "<style scoped>\n",
       "    .dataframe tbody tr th:only-of-type {\n",
       "        vertical-align: middle;\n",
       "    }\n",
       "\n",
       "    .dataframe tbody tr th {\n",
       "        vertical-align: top;\n",
       "    }\n",
       "\n",
       "    .dataframe thead th {\n",
       "        text-align: right;\n",
       "    }\n",
       "</style>\n",
       "<table border=\"1\" class=\"dataframe\">\n",
       "  <thead>\n",
       "    <tr style=\"text-align: right;\">\n",
       "      <th></th>\n",
       "      <th>Unnamed: 0</th>\n",
       "      <th>name</th>\n",
       "      <th>last_name</th>\n",
       "      <th>age</th>\n",
       "      <th>gender</th>\n",
       "      <th>time</th>\n",
       "      <th>permanent_country</th>\n",
       "      <th>company</th>\n",
       "      <th>main_industry</th>\n",
       "      <th>wealth_source_details</th>\n",
       "      <th>industry</th>\n",
       "      <th>state</th>\n",
       "      <th>headquarters</th>\n",
       "      <th>countries</th>\n",
       "      <th>annual_income</th>\n",
       "      <th>daily_income</th>\n",
       "      <th>birth_year</th>\n",
       "      <th>name_cleaned</th>\n",
       "    </tr>\n",
       "  </thead>\n",
       "  <tbody>\n",
       "    <tr>\n",
       "      <th>0</th>\n",
       "      <td>675</td>\n",
       "      <td>Abdulla bin Ahmad Al Ghurair</td>\n",
       "      <td>Al Ghurair</td>\n",
       "      <td>67</td>\n",
       "      <td>M</td>\n",
       "      <td>2013</td>\n",
       "      <td>United Arab Emirates-Dubai</td>\n",
       "      <td>Mashreq Bank</td>\n",
       "      <td>Diversified</td>\n",
       "      <td>diversified</td>\n",
       "      <td>Diversified;Banking</td>\n",
       "      <td>NaN</td>\n",
       "      <td>NaN</td>\n",
       "      <td>are</td>\n",
       "      <td>95604000</td>\n",
       "      <td>261928</td>\n",
       "      <td>1955</td>\n",
       "      <td>abdulla_bin_ahmad_al_ghurair</td>\n",
       "    </tr>\n",
       "    <tr>\n",
       "      <th>1</th>\n",
       "      <td>676</td>\n",
       "      <td>Abdulla bin Ahmad Al Ghurair</td>\n",
       "      <td>Al Ghurair</td>\n",
       "      <td>67</td>\n",
       "      <td>M</td>\n",
       "      <td>2013</td>\n",
       "      <td>United Arab Emirates-Dubai</td>\n",
       "      <td>Mashreq Bank</td>\n",
       "      <td>Diversified</td>\n",
       "      <td>diversified</td>\n",
       "      <td>Diversified;Banking</td>\n",
       "      <td>NaN</td>\n",
       "      <td>NaN</td>\n",
       "      <td>are</td>\n",
       "      <td>95604000</td>\n",
       "      <td>399254</td>\n",
       "      <td>1955</td>\n",
       "      <td>abdulla_bin_ahmad_al_ghurair</td>\n",
       "    </tr>\n",
       "    <tr>\n",
       "      <th>2</th>\n",
       "      <td>677</td>\n",
       "      <td>Abdulla bin Ahmad Al Ghurair</td>\n",
       "      <td>Al Ghurair</td>\n",
       "      <td>67</td>\n",
       "      <td>M</td>\n",
       "      <td>2013</td>\n",
       "      <td>United Arab Emirates-Dubai</td>\n",
       "      <td>Mashreq Bank</td>\n",
       "      <td>Diversified</td>\n",
       "      <td>diversified</td>\n",
       "      <td>Diversified;Banking</td>\n",
       "      <td>NaN</td>\n",
       "      <td>NaN</td>\n",
       "      <td>are</td>\n",
       "      <td>95604000</td>\n",
       "      <td>536021</td>\n",
       "      <td>1955</td>\n",
       "      <td>abdulla_bin_ahmad_al_ghurair</td>\n",
       "    </tr>\n",
       "    <tr>\n",
       "      <th>3</th>\n",
       "      <td>678</td>\n",
       "      <td>Abdulla bin Ahmad Al Ghurair</td>\n",
       "      <td>Al Ghurair</td>\n",
       "      <td>67</td>\n",
       "      <td>M</td>\n",
       "      <td>2013</td>\n",
       "      <td>United Arab Emirates-Dubai</td>\n",
       "      <td>Mashreq Bank</td>\n",
       "      <td>Diversified</td>\n",
       "      <td>diversified</td>\n",
       "      <td>Diversified;Banking</td>\n",
       "      <td>NaN</td>\n",
       "      <td>NaN</td>\n",
       "      <td>are</td>\n",
       "      <td>95604000</td>\n",
       "      <td>410391</td>\n",
       "      <td>1955</td>\n",
       "      <td>abdulla_bin_ahmad_al_ghurair</td>\n",
       "    </tr>\n",
       "    <tr>\n",
       "      <th>4</th>\n",
       "      <td>679</td>\n",
       "      <td>Abdulla bin Ahmad Al Ghurair</td>\n",
       "      <td>Al Ghurair</td>\n",
       "      <td>67</td>\n",
       "      <td>M</td>\n",
       "      <td>2013</td>\n",
       "      <td>United Arab Emirates-Dubai</td>\n",
       "      <td>Mashreq Bank</td>\n",
       "      <td>Diversified</td>\n",
       "      <td>diversified</td>\n",
       "      <td>Diversified;Banking</td>\n",
       "      <td>NaN</td>\n",
       "      <td>NaN</td>\n",
       "      <td>are</td>\n",
       "      <td>95604000</td>\n",
       "      <td>558904</td>\n",
       "      <td>1955</td>\n",
       "      <td>abdulla_bin_ahmad_al_ghurair</td>\n",
       "    </tr>\n",
       "    <tr>\n",
       "      <th>...</th>\n",
       "      <td>...</td>\n",
       "      <td>...</td>\n",
       "      <td>...</td>\n",
       "      <td>...</td>\n",
       "      <td>...</td>\n",
       "      <td>...</td>\n",
       "      <td>...</td>\n",
       "      <td>...</td>\n",
       "      <td>...</td>\n",
       "      <td>...</td>\n",
       "      <td>...</td>\n",
       "      <td>...</td>\n",
       "      <td>...</td>\n",
       "      <td>...</td>\n",
       "      <td>...</td>\n",
       "      <td>...</td>\n",
       "      <td>...</td>\n",
       "      <td>...</td>\n",
       "    </tr>\n",
       "    <tr>\n",
       "      <th>352364</th>\n",
       "      <td>358313</td>\n",
       "      <td>Zygmunt Solorz-Zak</td>\n",
       "      <td>Solorz-Zak</td>\n",
       "      <td>65</td>\n",
       "      <td>M</td>\n",
       "      <td>2022</td>\n",
       "      <td>Poland-Warsaw</td>\n",
       "      <td>Cyfrowy Polsat</td>\n",
       "      <td>Media &amp; Entertainment</td>\n",
       "      <td>TV broadcasting; TV station</td>\n",
       "      <td>Media &amp; Entertainment; Media;Media;Entertainment</td>\n",
       "      <td>NaN</td>\n",
       "      <td>NaN</td>\n",
       "      <td>pol</td>\n",
       "      <td>74820000</td>\n",
       "      <td>219780</td>\n",
       "      <td>1957</td>\n",
       "      <td>zygmunt_solorz_zak</td>\n",
       "    </tr>\n",
       "    <tr>\n",
       "      <th>352365</th>\n",
       "      <td>358314</td>\n",
       "      <td>Zygmunt Solorz-Zak</td>\n",
       "      <td>Solorz-Zak</td>\n",
       "      <td>65</td>\n",
       "      <td>M</td>\n",
       "      <td>2022</td>\n",
       "      <td>Poland-Warsaw</td>\n",
       "      <td>Cyfrowy Polsat</td>\n",
       "      <td>Media &amp; Entertainment</td>\n",
       "      <td>TV broadcasting; TV station</td>\n",
       "      <td>Media &amp; Entertainment; Media;Media;Entertainment</td>\n",
       "      <td>NaN</td>\n",
       "      <td>NaN</td>\n",
       "      <td>pol</td>\n",
       "      <td>74820000</td>\n",
       "      <td>207493</td>\n",
       "      <td>1957</td>\n",
       "      <td>zygmunt_solorz_zak</td>\n",
       "    </tr>\n",
       "    <tr>\n",
       "      <th>352366</th>\n",
       "      <td>358315</td>\n",
       "      <td>Zygmunt Solorz-Zak</td>\n",
       "      <td>Solorz-Zak</td>\n",
       "      <td>65</td>\n",
       "      <td>M</td>\n",
       "      <td>2022</td>\n",
       "      <td>Poland-Warsaw</td>\n",
       "      <td>Cyfrowy Polsat</td>\n",
       "      <td>Media &amp; Entertainment</td>\n",
       "      <td>TV broadcasting; TV station</td>\n",
       "      <td>Media &amp; Entertainment; Media;Media;Entertainment</td>\n",
       "      <td>NaN</td>\n",
       "      <td>NaN</td>\n",
       "      <td>pol</td>\n",
       "      <td>74820000</td>\n",
       "      <td>180887</td>\n",
       "      <td>1957</td>\n",
       "      <td>zygmunt_solorz_zak</td>\n",
       "    </tr>\n",
       "    <tr>\n",
       "      <th>352367</th>\n",
       "      <td>358316</td>\n",
       "      <td>Zygmunt Solorz-Zak</td>\n",
       "      <td>Solorz-Zak</td>\n",
       "      <td>65</td>\n",
       "      <td>M</td>\n",
       "      <td>2022</td>\n",
       "      <td>Poland-Warsaw</td>\n",
       "      <td>Cyfrowy Polsat</td>\n",
       "      <td>Media &amp; Entertainment</td>\n",
       "      <td>TV broadcasting; TV station</td>\n",
       "      <td>Media &amp; Entertainment; Media;Media;Entertainment</td>\n",
       "      <td>NaN</td>\n",
       "      <td>NaN</td>\n",
       "      <td>pol</td>\n",
       "      <td>74820000</td>\n",
       "      <td>231452</td>\n",
       "      <td>1957</td>\n",
       "      <td>zygmunt_solorz_zak</td>\n",
       "    </tr>\n",
       "    <tr>\n",
       "      <th>352368</th>\n",
       "      <td>358317</td>\n",
       "      <td>Zygmunt Solorz-Zak</td>\n",
       "      <td>Solorz-Zak</td>\n",
       "      <td>65</td>\n",
       "      <td>M</td>\n",
       "      <td>2022</td>\n",
       "      <td>Poland-Warsaw</td>\n",
       "      <td>Cyfrowy Polsat</td>\n",
       "      <td>Media &amp; Entertainment</td>\n",
       "      <td>TV broadcasting; TV station</td>\n",
       "      <td>Media &amp; Entertainment; Media;Media;Entertainment</td>\n",
       "      <td>NaN</td>\n",
       "      <td>NaN</td>\n",
       "      <td>pol</td>\n",
       "      <td>74820000</td>\n",
       "      <td>204986</td>\n",
       "      <td>1957</td>\n",
       "      <td>zygmunt_solorz_zak</td>\n",
       "    </tr>\n",
       "  </tbody>\n",
       "</table>\n",
       "<p>352369 rows × 18 columns</p>\n",
       "</div>"
      ],
      "text/plain": [
       "        Unnamed: 0                          name   last_name  age gender  \\\n",
       "0              675  Abdulla bin Ahmad Al Ghurair  Al Ghurair   67      M   \n",
       "1              676  Abdulla bin Ahmad Al Ghurair  Al Ghurair   67      M   \n",
       "2              677  Abdulla bin Ahmad Al Ghurair  Al Ghurair   67      M   \n",
       "3              678  Abdulla bin Ahmad Al Ghurair  Al Ghurair   67      M   \n",
       "4              679  Abdulla bin Ahmad Al Ghurair  Al Ghurair   67      M   \n",
       "...            ...                           ...         ...  ...    ...   \n",
       "352364      358313            Zygmunt Solorz-Zak  Solorz-Zak   65      M   \n",
       "352365      358314            Zygmunt Solorz-Zak  Solorz-Zak   65      M   \n",
       "352366      358315            Zygmunt Solorz-Zak  Solorz-Zak   65      M   \n",
       "352367      358316            Zygmunt Solorz-Zak  Solorz-Zak   65      M   \n",
       "352368      358317            Zygmunt Solorz-Zak  Solorz-Zak   65      M   \n",
       "\n",
       "        time           permanent_country         company  \\\n",
       "0       2013  United Arab Emirates-Dubai    Mashreq Bank   \n",
       "1       2013  United Arab Emirates-Dubai    Mashreq Bank   \n",
       "2       2013  United Arab Emirates-Dubai    Mashreq Bank   \n",
       "3       2013  United Arab Emirates-Dubai    Mashreq Bank   \n",
       "4       2013  United Arab Emirates-Dubai    Mashreq Bank   \n",
       "...      ...                         ...             ...   \n",
       "352364  2022               Poland-Warsaw  Cyfrowy Polsat   \n",
       "352365  2022               Poland-Warsaw  Cyfrowy Polsat   \n",
       "352366  2022               Poland-Warsaw  Cyfrowy Polsat   \n",
       "352367  2022               Poland-Warsaw  Cyfrowy Polsat   \n",
       "352368  2022               Poland-Warsaw  Cyfrowy Polsat   \n",
       "\n",
       "                main_industry        wealth_source_details  \\\n",
       "0                 Diversified                  diversified   \n",
       "1                 Diversified                  diversified   \n",
       "2                 Diversified                  diversified   \n",
       "3                 Diversified                  diversified   \n",
       "4                 Diversified                  diversified   \n",
       "...                       ...                          ...   \n",
       "352364  Media & Entertainment  TV broadcasting; TV station   \n",
       "352365  Media & Entertainment  TV broadcasting; TV station   \n",
       "352366  Media & Entertainment  TV broadcasting; TV station   \n",
       "352367  Media & Entertainment  TV broadcasting; TV station   \n",
       "352368  Media & Entertainment  TV broadcasting; TV station   \n",
       "\n",
       "                                                industry state headquarters  \\\n",
       "0                                    Diversified;Banking   NaN          NaN   \n",
       "1                                    Diversified;Banking   NaN          NaN   \n",
       "2                                    Diversified;Banking   NaN          NaN   \n",
       "3                                    Diversified;Banking   NaN          NaN   \n",
       "4                                    Diversified;Banking   NaN          NaN   \n",
       "...                                                  ...   ...          ...   \n",
       "352364  Media & Entertainment; Media;Media;Entertainment   NaN          NaN   \n",
       "352365  Media & Entertainment; Media;Media;Entertainment   NaN          NaN   \n",
       "352366  Media & Entertainment; Media;Media;Entertainment   NaN          NaN   \n",
       "352367  Media & Entertainment; Media;Media;Entertainment   NaN          NaN   \n",
       "352368  Media & Entertainment; Media;Media;Entertainment   NaN          NaN   \n",
       "\n",
       "       countries  annual_income  daily_income  birth_year  \\\n",
       "0            are       95604000        261928        1955   \n",
       "1            are       95604000        399254        1955   \n",
       "2            are       95604000        536021        1955   \n",
       "3            are       95604000        410391        1955   \n",
       "4            are       95604000        558904        1955   \n",
       "...          ...            ...           ...         ...   \n",
       "352364       pol       74820000        219780        1957   \n",
       "352365       pol       74820000        207493        1957   \n",
       "352366       pol       74820000        180887        1957   \n",
       "352367       pol       74820000        231452        1957   \n",
       "352368       pol       74820000        204986        1957   \n",
       "\n",
       "                        name_cleaned  \n",
       "0       abdulla_bin_ahmad_al_ghurair  \n",
       "1       abdulla_bin_ahmad_al_ghurair  \n",
       "2       abdulla_bin_ahmad_al_ghurair  \n",
       "3       abdulla_bin_ahmad_al_ghurair  \n",
       "4       abdulla_bin_ahmad_al_ghurair  \n",
       "...                              ...  \n",
       "352364            zygmunt_solorz_zak  \n",
       "352365            zygmunt_solorz_zak  \n",
       "352366            zygmunt_solorz_zak  \n",
       "352367            zygmunt_solorz_zak  \n",
       "352368            zygmunt_solorz_zak  \n",
       "\n",
       "[352369 rows x 18 columns]"
      ]
     },
     "execution_count": 181,
     "metadata": {},
     "output_type": "execute_result"
    }
   ],
   "source": [
    "full_file = pd.read_csv(\"billionaire_list_20yrs.csv\")\n",
    "full_file"
   ]
  },
  {
   "cell_type": "code",
   "execution_count": 182,
   "metadata": {},
   "outputs": [
    {
     "name": "stdout",
     "output_type": "stream",
     "text": [
      "<class 'pandas.core.frame.DataFrame'>\n",
      "RangeIndex: 352369 entries, 0 to 352368\n",
      "Data columns (total 18 columns):\n",
      " #   Column                 Non-Null Count   Dtype \n",
      "---  ------                 --------------   ----- \n",
      " 0   Unnamed: 0             352369 non-null  int64 \n",
      " 1   name                   352369 non-null  object\n",
      " 2   last_name              341519 non-null  object\n",
      " 3   age                    352369 non-null  int64 \n",
      " 4   gender                 340477 non-null  object\n",
      " 5   time                   352369 non-null  int64 \n",
      " 6   permanent_country      304678 non-null  object\n",
      " 7   company                326869 non-null  object\n",
      " 8   main_industry          352369 non-null  object\n",
      " 9   wealth_source_details  341447 non-null  object\n",
      " 10  industry               352320 non-null  object\n",
      " 11  state                  159190 non-null  object\n",
      " 12  headquarters           133655 non-null  object\n",
      " 13  countries              352369 non-null  object\n",
      " 14  annual_income          352369 non-null  int64 \n",
      " 15  daily_income           352369 non-null  int64 \n",
      " 16  birth_year             352369 non-null  int64 \n",
      " 17  name_cleaned           352369 non-null  object\n",
      "dtypes: int64(6), object(12)\n",
      "memory usage: 48.4+ MB\n",
      "None\n"
     ]
    }
   ],
   "source": [
    "print(full_file.info())"
   ]
  },
  {
   "cell_type": "code",
   "execution_count": 183,
   "metadata": {},
   "outputs": [
    {
     "name": "stdout",
     "output_type": "stream",
     "text": [
      "          Unnamed: 0            age           time  annual_income  \\\n",
      "count  352369.000000  352369.000000  352369.000000   3.523690e+05   \n",
      "mean   179156.890498      72.130326    2014.227824   1.437315e+08   \n",
      "std    103374.859481      13.237945       5.474610   2.336920e+08   \n",
      "min         0.000000      19.000000    2002.000000   1.681350e+07   \n",
      "25%     89515.000000      63.000000    2010.000000   4.870500e+07   \n",
      "50%    178702.000000      72.000000    2015.000000   7.642500e+07   \n",
      "75%    268734.000000      81.000000    2019.000000   1.396560e+08   \n",
      "max    358317.000000     117.000000    2022.000000   5.650200e+09   \n",
      "\n",
      "       daily_income     birth_year  \n",
      "count  3.523690e+05  352369.000000  \n",
      "mean   3.937844e+05    1949.869674  \n",
      "std    6.402521e+05      13.237945  \n",
      "min    4.606400e+04    1905.000000  \n",
      "25%    1.334380e+05    1941.000000  \n",
      "50%    2.093830e+05    1950.000000  \n",
      "75%    3.826190e+05    1959.000000  \n",
      "max    1.548000e+07    2003.000000  \n"
     ]
    }
   ],
   "source": [
    "print(full_file.describe())"
   ]
  },
  {
   "attachments": {},
   "cell_type": "markdown",
   "metadata": {},
   "source": [
    "MANIPULATE AND CLEAN DATA"
   ]
  },
  {
   "attachments": {},
   "cell_type": "markdown",
   "metadata": {},
   "source": [
    "Delete unnecessary columns\n"
   ]
  },
  {
   "cell_type": "code",
   "execution_count": 184,
   "metadata": {},
   "outputs": [
    {
     "name": "stdout",
     "output_type": "stream",
     "text": [
      "<class 'pandas.core.frame.DataFrame'>\n",
      "RangeIndex: 352369 entries, 0 to 352368\n",
      "Data columns (total 14 columns):\n",
      " #   Column                 Non-Null Count   Dtype \n",
      "---  ------                 --------------   ----- \n",
      " 0   Unnamed: 0             352369 non-null  int64 \n",
      " 1   age                    352369 non-null  int64 \n",
      " 2   gender                 340477 non-null  object\n",
      " 3   time                   352369 non-null  int64 \n",
      " 4   permanent_country      304678 non-null  object\n",
      " 5   company                326869 non-null  object\n",
      " 6   main_industry          352369 non-null  object\n",
      " 7   wealth_source_details  341447 non-null  object\n",
      " 8   industry               352320 non-null  object\n",
      " 9   countries              352369 non-null  object\n",
      " 10  annual_income          352369 non-null  int64 \n",
      " 11  daily_income           352369 non-null  int64 \n",
      " 12  birth_year             352369 non-null  int64 \n",
      " 13  name_cleaned           352369 non-null  object\n",
      "dtypes: int64(6), object(8)\n",
      "memory usage: 37.6+ MB\n",
      "None\n"
     ]
    }
   ],
   "source": [
    "df = full_file.drop(['headquarters', 'state', 'name', 'last_name'], axis=1)\n",
    "print(df.info())"
   ]
  },
  {
   "attachments": {},
   "cell_type": "markdown",
   "metadata": {},
   "source": [
    "Fill in Nulls"
   ]
  },
  {
   "cell_type": "code",
   "execution_count": 185,
   "metadata": {},
   "outputs": [
    {
     "name": "stdout",
     "output_type": "stream",
     "text": [
      "<class 'pandas.core.frame.DataFrame'>\n",
      "RangeIndex: 352369 entries, 0 to 352368\n",
      "Data columns (total 14 columns):\n",
      " #   Column                 Non-Null Count   Dtype \n",
      "---  ------                 --------------   ----- \n",
      " 0   Unnamed: 0             352369 non-null  int64 \n",
      " 1   age                    352369 non-null  int64 \n",
      " 2   gender                 352369 non-null  object\n",
      " 3   time                   352369 non-null  int64 \n",
      " 4   permanent_country      352369 non-null  object\n",
      " 5   company                352369 non-null  object\n",
      " 6   main_industry          352369 non-null  object\n",
      " 7   wealth_source_details  352369 non-null  object\n",
      " 8   industry               352369 non-null  object\n",
      " 9   countries              352369 non-null  object\n",
      " 10  annual_income          352369 non-null  int64 \n",
      " 11  daily_income           352369 non-null  int64 \n",
      " 12  birth_year             352369 non-null  int64 \n",
      " 13  name_cleaned           352369 non-null  object\n",
      "dtypes: int64(6), object(8)\n",
      "memory usage: 37.6+ MB\n",
      "None\n"
     ]
    }
   ],
   "source": [
    "#fill in missing genders\n",
    "df['gender'] = df['gender'].fillna('Unknown')\n",
    "df['company'] = df['company'].fillna('Unknown')\n",
    "df['wealth_source_details'] = df['wealth_source_details'].fillna('Unknown')\n",
    "df['industry'] = df['industry'].fillna('Unknown')\n",
    "#replace missing permanent_country with country\n",
    "df['permanent_country'] = df['permanent_country'].fillna(df['countries'])\n",
    "\n",
    "print(df.info())"
   ]
  },
  {
   "attachments": {},
   "cell_type": "markdown",
   "metadata": {},
   "source": [
    "ANALYZE DATA \n"
   ]
  },
  {
   "attachments": {},
   "cell_type": "markdown",
   "metadata": {},
   "source": [
    "Total number of Billionaires over the last 20 years"
   ]
  },
  {
   "cell_type": "code",
   "execution_count": 186,
   "metadata": {},
   "outputs": [
    {
     "name": "stdout",
     "output_type": "stream",
     "text": [
      "The total number of billionaires in the last 20 years is 5014 !!!\n"
     ]
    }
   ],
   "source": [
    "#filter names by single entry\n",
    "\n",
    "totalppl = df.name_cleaned.nunique()\n",
    "print(\"The total number of billionaires in the last 20 years is\", totalppl, \"!!!\")"
   ]
  },
  {
   "cell_type": "code",
   "execution_count": 187,
   "metadata": {},
   "outputs": [],
   "source": [
    "#plot number billionaires each year- did they increase?\n",
    "\n"
   ]
  },
  {
   "attachments": {},
   "cell_type": "markdown",
   "metadata": {},
   "source": [
    "Top 10 Billionaires and their wealth over time"
   ]
  },
  {
   "cell_type": "code",
   "execution_count": 188,
   "metadata": {},
   "outputs": [
    {
     "name": "stderr",
     "output_type": "stream",
     "text": [
      "C:\\Users\\theal\\AppData\\Local\\Temp\\ipykernel_3268\\3570486377.py:2: FutureWarning: The default value of numeric_only in DataFrameGroupBy.sum is deprecated. In a future version, numeric_only will default to False. Either specify numeric_only or select only columns which should be valid for the function.\n",
      "  topten = df.groupby(['name_cleaned']).sum().drop(['age', 'daily_income', 'birth_year', 'Unnamed: 0', 'time'], axis=1)\n"
     ]
    },
    {
     "data": {
      "text/html": [
       "<div>\n",
       "<style scoped>\n",
       "    .dataframe tbody tr th:only-of-type {\n",
       "        vertical-align: middle;\n",
       "    }\n",
       "\n",
       "    .dataframe tbody tr th {\n",
       "        vertical-align: top;\n",
       "    }\n",
       "\n",
       "    .dataframe thead th {\n",
       "        text-align: right;\n",
       "    }\n",
       "</style>\n",
       "<table border=\"1\" class=\"dataframe\">\n",
       "  <thead>\n",
       "    <tr style=\"text-align: right;\">\n",
       "      <th></th>\n",
       "      <th>annual_income</th>\n",
       "    </tr>\n",
       "    <tr>\n",
       "      <th>name_cleaned</th>\n",
       "      <th></th>\n",
       "    </tr>\n",
       "  </thead>\n",
       "  <tbody>\n",
       "    <tr>\n",
       "      <th>bill_gates</th>\n",
       "      <td>956388761979</td>\n",
       "    </tr>\n",
       "    <tr>\n",
       "      <th>warren_buffett</th>\n",
       "      <td>810449135958</td>\n",
       "    </tr>\n",
       "    <tr>\n",
       "      <th>carlos_slim_helu</th>\n",
       "      <td>694437722958</td>\n",
       "    </tr>\n",
       "    <tr>\n",
       "      <th>jeff_bezos</th>\n",
       "      <td>594087668958</td>\n",
       "    </tr>\n",
       "    <tr>\n",
       "      <th>bernard_arnault</th>\n",
       "      <td>582475634937</td>\n",
       "    </tr>\n",
       "    <tr>\n",
       "      <th>larry_ellison</th>\n",
       "      <td>559514780958</td>\n",
       "    </tr>\n",
       "    <tr>\n",
       "      <th>amancio_ortega</th>\n",
       "      <td>542367692937</td>\n",
       "    </tr>\n",
       "    <tr>\n",
       "      <th>jim_walton</th>\n",
       "      <td>416084003979</td>\n",
       "    </tr>\n",
       "    <tr>\n",
       "      <th>alice_walton</th>\n",
       "      <td>412401212979</td>\n",
       "    </tr>\n",
       "    <tr>\n",
       "      <th>rob_walton</th>\n",
       "      <td>410085710979</td>\n",
       "    </tr>\n",
       "  </tbody>\n",
       "</table>\n",
       "</div>"
      ],
      "text/plain": [
       "                  annual_income\n",
       "name_cleaned                   \n",
       "bill_gates         956388761979\n",
       "warren_buffett     810449135958\n",
       "carlos_slim_helu   694437722958\n",
       "jeff_bezos         594087668958\n",
       "bernard_arnault    582475634937\n",
       "larry_ellison      559514780958\n",
       "amancio_ortega     542367692937\n",
       "jim_walton         416084003979\n",
       "alice_walton       412401212979\n",
       "rob_walton         410085710979"
      ]
     },
     "execution_count": 188,
     "metadata": {},
     "output_type": "execute_result"
    }
   ],
   "source": [
    "#sum the wealth of each, get top ten names\n",
    "topten = df.groupby(['name_cleaned']).sum().drop(['age', 'daily_income', 'birth_year', 'Unnamed: 0', 'time'], axis=1)\n",
    "ten = topten.nlargest((10),'annual_income')\n",
    "ten"
   ]
  },
  {
   "cell_type": "code",
   "execution_count": 189,
   "metadata": {},
   "outputs": [],
   "source": [
    "#plot their wealth over the last 20 years, by passing names into list \n",
    "# show their industry?\n",
    "#map_ten = ten.groupby(['time','annual_income'])\n",
    "#map_ten.plot(kind='line')\n",
    "\n",
    "#map_ten = df.groupby('time').annual_income\n",
    "#sns.lineplot(data = map_ten)\n",
    "#plt.show()\n",
    "\n",
    "#mapten = pd.DataFrame(ten, columns=[\"name_cleaned\", \"time\", \"annual_income\"])\n",
    "#mapten.plot(x=\"time\", y=[\"annual_income\", \"name_cleaned\"], kind=\"line\", figsize=(9, 8))\n",
    "#mp.show()\n",
    "#mapten = ten.drop(['Unnamed: 0', 'age', 'daily_income', 'birth_year'], axis=1)\n",
    "#mapten.plot(label='ten', color=['orange', 'green'])\n",
    "\n",
    "\n",
    "\n",
    "#by_industry = rich_df[rich_df['main_industry'].isin(ten)]\n",
    "#tenppl = ten.drop(['Unnamed: 0', 'age', 'daily_income', 'birth_year'], axis=1)\n",
    "#tenppl = if 'name_cleaned' == [\"bill_gates\", \"warren_buffett\", \"carlos_slim_helu\",\"jeff_bezos\", \"bernard_arnault\", \"larry_ellison\",  \"amancio_ortega\", \n",
    "#\"jim_walton\", \"alice_walton\", \"rob_walton\"]\n",
    "\n",
    "#grouped_ten = pd.pivot_table(tenppl, index = 'time', columns = 'name_cleaned', values = 'annual_income')\n",
    "#grouped_ten.head(3)"
   ]
  },
  {
   "attachments": {},
   "cell_type": "markdown",
   "metadata": {},
   "source": [
    "Sum of All Wealth for Each Year"
   ]
  },
  {
   "cell_type": "code",
   "execution_count": 190,
   "metadata": {},
   "outputs": [
    {
     "name": "stderr",
     "output_type": "stream",
     "text": [
      "C:\\Users\\theal\\AppData\\Local\\Temp\\ipykernel_3268\\2978983943.py:2: FutureWarning: The default value of numeric_only in DataFrameGroupBy.sum is deprecated. In a future version, numeric_only will default to False. Either specify numeric_only or select only columns which should be valid for the function.\n",
      "  yearly_total = df.groupby(['time']).sum()\n"
     ]
    },
    {
     "data": {
      "text/plain": [
       "Text(0.5, 1.0, 'Total Wealth of Billionaires Over Time')"
      ]
     },
     "execution_count": 190,
     "metadata": {},
     "output_type": "execute_result"
    },
    {
     "data": {
      "image/png": "[encoded data removed]",
      "text/plain": [
       "<Figure size 640x480 with 1 Axes>"
      ]
     },
     "metadata": {},
     "output_type": "display_data"
    }
   ],
   "source": [
    "#filter data by years\n",
    "yearly_total = df.groupby(['time']).sum()\n",
    "yearly_total.plot(kind='line')\n",
    "plt.title(\"Total Wealth of Billionaires Over Time\")\n",
    "#change x and y axis ticker increments\n",
    "#change legend and what's graphed"
   ]
  },
  {
   "attachments": {},
   "cell_type": "markdown",
   "metadata": {},
   "source": [
    "Gender Data"
   ]
  },
  {
   "cell_type": "code",
   "execution_count": 191,
   "metadata": {},
   "outputs": [],
   "source": [
    "#get unique names-- single instance of a person\n",
    "##ppl = df.name_cleaned.unique\n",
    "##print(ppl)\n",
    "total = df.name_cleaned.unique()\n",
    "#print the numbers\n",
    "#print('Number of Male Billionaires: ', (df['gender'].value_counts()['M']))\n",
    "#print('Number of Female Billionaires: ', (df['gender'].value_counts()['F']))\n",
    "#print('Unknown Gender: ', (df['gender'].value_counts()['Unknown']))\n",
    "\n",
    "#top industries per gender? "
   ]
  },
  {
   "cell_type": "code",
   "execution_count": 192,
   "metadata": {},
   "outputs": [],
   "source": [
    "#wealth comparisons by gender over time\n"
   ]
  },
  {
   "attachments": {},
   "cell_type": "markdown",
   "metadata": {},
   "source": [
    "Who is the youngest Billionaire? \n",
    "Answer: Kevin David Lehmann owns the leading drugstore chain in Germany."
   ]
  },
  {
   "cell_type": "code",
   "execution_count": 193,
   "metadata": {},
   "outputs": [
    {
     "data": {
      "text/html": [
       "<div>\n",
       "<style scoped>\n",
       "    .dataframe tbody tr th:only-of-type {\n",
       "        vertical-align: middle;\n",
       "    }\n",
       "\n",
       "    .dataframe tbody tr th {\n",
       "        vertical-align: top;\n",
       "    }\n",
       "\n",
       "    .dataframe thead th {\n",
       "        text-align: right;\n",
       "    }\n",
       "</style>\n",
       "<table border=\"1\" class=\"dataframe\">\n",
       "  <thead>\n",
       "    <tr style=\"text-align: right;\">\n",
       "      <th></th>\n",
       "      <th>age</th>\n",
       "      <th>gender</th>\n",
       "      <th>permanent_country</th>\n",
       "      <th>main_industry</th>\n",
       "      <th>wealth_source_details</th>\n",
       "      <th>annual_income</th>\n",
       "      <th>birth_year</th>\n",
       "    </tr>\n",
       "    <tr>\n",
       "      <th>name_cleaned</th>\n",
       "      <th></th>\n",
       "      <th></th>\n",
       "      <th></th>\n",
       "      <th></th>\n",
       "      <th></th>\n",
       "      <th></th>\n",
       "      <th></th>\n",
       "    </tr>\n",
       "  </thead>\n",
       "  <tbody>\n",
       "    <tr>\n",
       "      <th>kevin_david_lehmann</th>\n",
       "      <td>19</td>\n",
       "      <td>M</td>\n",
       "      <td>deu</td>\n",
       "      <td>Fashion &amp; Retail</td>\n",
       "      <td>drugstores</td>\n",
       "      <td>87120000</td>\n",
       "      <td>2003</td>\n",
       "    </tr>\n",
       "  </tbody>\n",
       "</table>\n",
       "</div>"
      ],
      "text/plain": [
       "                     age gender permanent_country     main_industry  \\\n",
       "name_cleaned                                                          \n",
       "kevin_david_lehmann   19      M               deu  Fashion & Retail   \n",
       "\n",
       "                    wealth_source_details  annual_income  birth_year  \n",
       "name_cleaned                                                          \n",
       "kevin_david_lehmann            drugstores       87120000        2003  "
      ]
     },
     "execution_count": 193,
     "metadata": {},
     "output_type": "execute_result"
    }
   ],
   "source": [
    "df2 = df.drop(df.iloc[:, [0,3,5,8,9,11]],axis = 1)\n",
    "ages = df2.groupby(['name_cleaned']).max()\n",
    "youngest = ages.nlargest((1),'birth_year')\n",
    "youngest"
   ]
  },
  {
   "attachments": {},
   "cell_type": "markdown",
   "metadata": {},
   "source": [
    "Average Annual Income by Age"
   ]
  },
  {
   "cell_type": "code",
   "execution_count": 194,
   "metadata": {},
   "outputs": [
    {
     "data": {
      "text/plain": [
       "<Axes: xlabel='age'>"
      ]
     },
     "execution_count": 194,
     "metadata": {},
     "output_type": "execute_result"
    },
    {
     "data": {
      "image/png": "[encoded data removed]",
      "text/plain": [
       "<Figure size 640x480 with 1 Axes>"
      ]
     },
     "metadata": {},
     "output_type": "display_data"
    }
   ],
   "source": [
    "age_df = df.groupby('age').annual_income.mean()\n",
    "\n",
    "#plot info\n",
    "age_df.plot(kind='line')\n",
    "\n"
   ]
  },
  {
   "attachments": {},
   "cell_type": "markdown",
   "metadata": {},
   "source": [
    "Top 10 Industries of the Wealthy in the last 20 years"
   ]
  },
  {
   "cell_type": "code",
   "execution_count": 195,
   "metadata": {},
   "outputs": [
    {
     "data": {
      "text/plain": [
       "Text(0.5, 1.0, 'Top 10 Industries of the Wealthy in the last 20 years')"
      ]
     },
     "execution_count": 195,
     "metadata": {},
     "output_type": "execute_result"
    },
    {
     "data": {
      "image/png": "[encoded data removed]",
      "text/plain": [
       "<Figure size 640x480 with 1 Axes>"
      ]
     },
     "metadata": {},
     "output_type": "display_data"
    }
   ],
   "source": [
    "#grouped_by_industry = df.groupby('main_industry')\n",
    "ind = df.main_industry.value_counts()\n",
    "ind.head(10).plot(kind='pie')\n",
    "plt.ylabel('')\n",
    "plt.title(\"Top 10 Industries of the Wealthy in the last 20 years\")"
   ]
  }
 ],
 "metadata": {
  "kernelspec": {
   "display_name": "python",
   "language": "python",
   "name": "python3"
  },
  "language_info": {
   "codemirror_mode": {
    "name": "ipython",
    "version": 3
   },
   "file_extension": ".py",
   "mimetype": "text/x-python",
   "name": "python",
   "nbconvert_exporter": "python",
   "pygments_lexer": "ipython3",
   "version": "3.9.15"
  },
  "orig_nbformat": 4,
  "vscode": {
   "interpreter": {
    "hash": "ddaaf6b5fe107b2109b013489c3d2e566bac579c71f2fc1b5fc3affa707db53b"
   }
  }
 },
 "nbformat": 4,
 "nbformat_minor": 2
}
